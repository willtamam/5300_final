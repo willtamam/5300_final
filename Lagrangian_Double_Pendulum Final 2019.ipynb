{
 "cells": [
  {
   "cell_type": "markdown",
   "metadata": {},
   "source": [
    "# Simple pendulum using Lagrange's equation\n",
    "\n",
    "Defines a LagrangianPendulum class that is used to generate basic pendulum plots from solving Lagrange's equations.\n",
    "\n",
    "* Last revised 17-Mar-2019 by Dick Furnstahl (furnstahl.1@osu.edu)."
   ]
  },
  {
   "cell_type": "markdown",
   "metadata": {},
   "source": [
    "## Euler-Lagrange equation\n",
    "\n",
    "For a simple pendulum, the Lagrangian with generalized coordinate $\\phi$ is\n",
    "\n",
    "$\\begin{align}\n",
    "  \\mathcal{L} = \\frac12 m L^2 \\dot\\phi^2 - mgL(1 - \\cos\\phi)\n",
    "\\end{align}$\n",
    "\n",
    "The Euler-Lagrange equation is\n",
    "\n",
    "$\\begin{align}\n",
    " \\frac{d}{dt}\\frac{\\partial\\mathcal{L}}{\\partial \\dot\\phi} = \\frac{\\partial\\mathcal L}{\\partial\\phi}\n",
    " \\quad\\Longrightarrow\\quad\n",
    " m L^2 \\ddot \\phi = -mgL\\sin\\phi\n",
    "  \\ \\mbox{or}\\ \\ddot\\phi = - \\omega_0^2\\sin\\phi = 0\n",
    "  \\;.\n",
    "\\end{align}$\n",
    "\n",
    "## Hamilton's equations\n",
    "\n",
    "The generalized momentum corresponding to $\\phi$ is\n",
    "\n",
    "$\\begin{align}\n",
    "   \\frac{\\partial\\mathcal{L}}{\\partial \\dot\\phi} = m L^2 \\dot\\phi \\equiv p_\\phi\n",
    "   \\;.\n",
    "\\end{align}$\n",
    "\n",
    "We can invert this equation to find $\\dot\\phi = p_\\phi / m L^2$.\n",
    "Constructing the Hamiltonian by Legendre transformation we find \n",
    "\n",
    "$\\begin{align}\n",
    "  \\mathcal{H} &= \\dot\\phi p_\\phi  - \\mathcal{L} \\\\\n",
    "              &= \\frac{p_\\phi^2}{m L^2} - \\frac12 m L^2 \\dot\\phi^2 + mgL(1 - \\cos\\phi) \\\\\n",
    "              &= \\frac{p_\\phi^2}{2 m L^2} + mgL(1 - \\cos\\phi)\n",
    "              \\;.\n",
    "\\end{align}$\n",
    "\n",
    "Thus $\\mathcal{H}$ is simply $T + V$.  Hamilton's equations are\n",
    "\n",
    "$\\begin{align}\n",
    "  \\dot\\phi &= \\frac{\\partial\\mathcal{H}}{\\partial p_\\phi} = \\frac{p_\\phi}{m L^2} \\\\\n",
    "  \\dot p_\\phi &= -\\frac{\\partial\\mathcal{H}}{\\partial \\phi} = -mgL \\sin\\phi \n",
    "  \\;.\n",
    "\\end{align}$"
   ]
  },
  {
   "cell_type": "code",
   "execution_count": 1,
   "metadata": {},
   "outputs": [],
   "source": [
    "%matplotlib inline"
   ]
  },
  {
   "cell_type": "code",
   "execution_count": 2,
   "metadata": {},
   "outputs": [],
   "source": [
    "import numpy as np\n",
    "from scipy.integrate import odeint, solve_ivp\n",
    "\n",
    "import matplotlib.pyplot as plt"
   ]
  },
  {
   "cell_type": "code",
   "execution_count": 3,
   "metadata": {},
   "outputs": [],
   "source": [
    "# The dpi (dots-per-inch) setting will affect the resolution and how large\n",
    "#  the plots appear on screen and printed.  So you may want/need to adjust \n",
    "#  the figsize when creating the figure.\n",
    "plt.rcParams['figure.dpi'] = 100.    # this is the default for notebook\n",
    "\n",
    "# Change the common font size (smaller when higher dpi)\n",
    "font_size = 10\n",
    "plt.rcParams.update({'font.size': font_size})"
   ]
  },
  {
   "cell_type": "markdown",
   "metadata": {},
   "source": [
    "## Pendulum class and utility functions"
   ]
  },
  {
   "cell_type": "code",
   "execution_count": 4,
   "metadata": {},
   "outputs": [],
   "source": [
    "class DoublePendulum():\n",
    "    \"\"\"\n",
    "    Pendulum class implements the parameters and Lagrange's equations for \n",
    "     a simple pendulum (no driving or damping).\n",
    "     \n",
    "    Parameters\n",
    "    ----------\n",
    "    L : float\n",
    "        length of the simple pendulum\n",
    "    g : float\n",
    "        gravitational acceleration at the earth's surface\n",
    "    omega_0 : float\n",
    "        natural frequency of the pendulum (\\sqrt{g/l} where l is the \n",
    "        pendulum length) \n",
    "    mass : float\n",
    "        mass of pendulum\n",
    "\n",
    "    Methods\n",
    "    -------\n",
    "    dy_dt(t, y)\n",
    "        Returns the right side of the differential equation in vector y, \n",
    "        given time t and the corresponding value of y.\n",
    "    \"\"\"\n",
    "    def __init__(self, L_1=1., L_2 =1., mass_1=1., mass_2=1., g=1.\n",
    "                ):\n",
    "        self.L1 = L_1\n",
    "        self.L2 = L_2\n",
    "        self.g = g\n",
    "        self.mass1 = mass_1\n",
    "        self.mass2 = mass_2\n",
    "    \n",
    "    def dy_dt(self, t, y):\n",
    "        \"\"\"\n",
    "        This function returns the right-hand side of the diffeq: \n",
    "        [dtheta/dt d^2theta/dt^2]\n",
    "        \n",
    "        Parameters\n",
    "        ----------\n",
    "        t : float\n",
    "            time \n",
    "        y : float\n",
    "            A 4-component vector with \n",
    "            y[0] = theta1_0, y[1] = theta1_dot_0, \n",
    "            y[2] = theta2_0, y[3] = theta2_dot_0\n",
    "           \n",
    "        Returns\n",
    "        -------\n",
    "        \n",
    "        \"\"\"\n",
    "        theta1_0, theta1_dot_0, theta2_0, theta2_dot_0 = y \n",
    "        \n",
    "        a,b = np.cos(theta1_0 - theta2_0), np.sin(theta1_0 - theta2_0)\n",
    "        denom =  (self.mass1 + self.mass2 * b**2)\n",
    "        \n",
    "        theta1_dot_0 = (self.mass2 * self.g * np.sin(theta2_0) * a \\\n",
    "                        -self.mass2 * b * (self.L1 * theta1_dot_0**2 * a + self.L2 * theta1_dot_0) \\\n",
    "                        - (self.mass1 + self.mass2) * self.g * np.sin(theta1_0)) \\\n",
    "                        / self.L1 / denom\n",
    "        \n",
    "        theta2_0 = (self.mass1 + self.mass2) * (self.L1 * theta1_dot_0**2  * b \\\n",
    "                    -self.g * np.sin(theta2_0) + self.g * np.sin(theta1_0) \\\n",
    "                    + self.mass2 * self.L2 * theta2_dot_0**2 * b * a) \\\n",
    "                    / self.L2 / denom            \n",
    "        return theta1_0, theta1_dot_0, theta2_0, theta2_dot_0\n",
    "    \n",
    "    \n",
    "    def solve_ode(self, t_pts, theta1_0, theta1_dot_0, theta2_0, theta2_dot_0, \n",
    "                  abserr=1.0e-9, relerr=1.0e-9):\n",
    "        \"\"\"\n",
    "        Solve the ODE given initial conditions.\n",
    "        Specify smaller abserr and relerr to get more precision.\n",
    "        \"\"\"\n",
    "        y = [theta1_0, theta1_dot_0, theta2_0, theta2_dot_0] \n",
    "        solution = solve_ivp(self.dy_dt, (t_pts[0], t_pts[-1]), \n",
    "                             y, t_eval=t_pts, \n",
    "                             atol=abserr, rtol=relerr)\n",
    "        theta1, theta1_dot, theta2, theta2_dot = solution.y\n",
    "\n",
    "        return theta1, theta1_dot, theta2, theta2_dot\n",
    "    \n",
    "    def calc_E(y):\n",
    "        \"\"\"Return the total energy of the system.\"\"\"\n",
    "        \n",
    "        theta1_0, theta1_dot_0, theta2_0, theta2_dot_0 = y.T\n",
    "        V = -(mass_1 + mass_2)*L_1*g*np.cos(theta1_0) - mass_2*L_2*g*np.cos(theta2_0)\n",
    "        T = .5*(mass_1 + mass_2)*(L_1*theta1_dot_0)**2 + mass_2*L_1*L_2*theta1_dot_0*theta2_dot_0*np.cos(theta1_0 - theta2_0) \\\n",
    "            + .5*mass_2*(L_1*theta1_dot_0)**2\n",
    "        return V+T"
   ]
  },
  {
   "cell_type": "code",
   "execution_count": 5,
   "metadata": {},
   "outputs": [],
   "source": [
    "def plot_y_vs_x(x, y, axis_labels=None, label=None, title=None, \n",
    "                color=None, linestyle=None, semilogy=False, loglog=False,\n",
    "                ax=None):\n",
    "    \"\"\"\n",
    "    Generic plotting function: return a figure axis with a plot of y vs. x,\n",
    "    with line color and style, title, axis labels, and line label\n",
    "    \"\"\"\n",
    "    if ax is None:        # if the axis object doesn't exist, make one\n",
    "        ax = plt.gca()\n",
    "\n",
    "    if (semilogy):\n",
    "        line, = ax.semilogy(x, y, label=label, \n",
    "                            color=color, linestyle=linestyle)\n",
    "    elif (loglog):\n",
    "        line, = ax.loglog(x, y, label=label, \n",
    "                          color=color, linestyle=linestyle)\n",
    "    else:\n",
    "        line, = ax.plot(x, y, label=label, \n",
    "                    color=color, linestyle=linestyle)\n",
    "\n",
    "    if label is not None:    # if a label if passed, show the legend\n",
    "        ax.legend()\n",
    "    if title is not None:    # set a title if one if passed\n",
    "        ax.set_title(title)\n",
    "    if axis_labels is not None:  # set x-axis and y-axis labels if passed  \n",
    "        ax.set_xlabel(axis_labels[0])\n",
    "        ax.set_ylabel(axis_labels[1])\n",
    "\n",
    "    return ax, line"
   ]
  },
  {
   "cell_type": "code",
   "execution_count": 6,
   "metadata": {},
   "outputs": [],
   "source": [
    "def start_stop_indices(t_pts, plot_start, plot_stop):\n",
    "    start_index = (np.fabs(t_pts-plot_start)).argmin()  # index in t_pts array \n",
    "    stop_index = (np.fabs(t_pts-plot_stop)).argmin()  # index in t_pts array \n",
    "    return start_index, stop_index"
   ]
  },
  {
   "cell_type": "code",
   "execution_count": null,
   "metadata": {},
   "outputs": [],
   "source": []
  },
  {
   "cell_type": "markdown",
   "metadata": {},
   "source": [
    "## Make simple pendulum plots "
   ]
  },
  {
   "cell_type": "code",
   "execution_count": 14,
   "metadata": {
    "scrolled": false
   },
   "outputs": [],
   "source": [
    "# Labels for individual plot axes\n",
    "theta_vs_time_labels = (r'$t$', r'$\\phi(t)$')\n",
    "phi_dot_vs_time_labels = (r'$t$', r'$d\\phi/dt(t)$')\n",
    "state_space_labels = (r'$\\phi$', r'$d\\phi/dt$')\n",
    "\n",
    "# Common plotting time (generate the full time then use slices)\n",
    "t_start = 0.\n",
    "t_end = 100.\n",
    "delta_t = 0.01\n",
    "\n",
    "t_pts = np.arange(t_start, t_end+delta_t, delta_t)  \n",
    "\n",
    "L_1= 1.\n",
    "L_2=1.\n",
    "g = 1.\n",
    "mass_1 = 1.\n",
    "mass_2 = 1.\n",
    "\n",
    "\n",
    "# Instantiate a pendulum \n",
    "dp1 = DoublePendulum(L_1=L_1, L_2=L_2, g=g, mass_1=mass_1, mass_2=mass_2)\n"
   ]
  },
  {
   "cell_type": "code",
   "execution_count": 15,
   "metadata": {},
   "outputs": [
    {
     "name": "stdout",
     "output_type": "stream",
     "text": [
      "\n"
     ]
    },
    {
     "data": {
      "image/png": "[encoded data removed]",
      "text/plain": [
       "<Figure size 1500x500 with 1 Axes>"
      ]
     },
     "metadata": {
      "needs_background": "light"
     },
     "output_type": "display_data"
    }
   ],
   "source": [
    "# both plots: same initial conditions\n",
    "theta1_0 = 0.\n",
    "theta1_dot_0 = np.pi/2\n",
    "theta2_0 = 0.\n",
    "theta2_dot_0 = 1\n",
    "theta1_0, theta1_dot_0, theta2_0, theta2_dot_0 = dp1.solve_ode(t_pts, theta1_0, theta1_dot_0, theta2_0, theta2_dot_0)\n",
    "\n",
    "\n",
    "# start the plot!\n",
    "fig = plt.figure(figsize=(15,5))\n",
    "#overall_title = 'Double pendulum from Lagrangian:  ' + \\\n",
    "#                rf' $\\theta1_0 = {theta1_0:.2f},$' + \\\n",
    "#                rf' $\\dot\\theta1_0 = {theta1_dot_0:.2f}$' + \\\n",
    "#                rf' $\\theta2_0 = {theta2_0:.2f},$' + \\\n",
    "#                rf' $\\dot\\theta2_0 = {theta2_dot_0:.2f}$' + \\\n",
    "#                '\\n'     # \\n means a new line (adds some space here)\n",
    "#fig.suptitle(overall_title, va='baseline')\n",
    "    \n",
    "# first plot: theta plot \n",
    "ax_a = fig.add_subplot(1,1,1) \n",
    "\n",
    "\n",
    "start, stop = start_stop_indices(t_pts, t_start, t_end)    \n",
    "plot_y_vs_x(t_pts[start : stop], theta1_0[start : stop], \n",
    "            #axis_labels=theta1_0_vs_time_labels, \n",
    "            color='blue',\n",
    "            label=None, \n",
    "            title=r'$\\theta(t)$', \n",
    "            ax=ax_a)    \n",
    "                              \n",
    "# second plot: theta_dot plot \n",
    "#ax_b = fig.add_subplot(1,2,1)                  \n",
    "\n",
    "start, stop = start_stop_indices(t_pts, t_start, t_end)    \n",
    "plot_y_vs_x(theta1_dot_0[start : stop], theta1_dot_0[start : stop], \n",
    "            #axis_labels=theta1_dot_0__vs_time_labels, \n",
    "            color='purple',\n",
    "            label=None, \n",
    "            title=r'$\\dot\\theta(t)$', \n",
    "            ax=ax_a)    \n",
    "\n",
    "# third plot: state space plot from t=30 to t=50   \n",
    "#ax_c = fig.add_subplot(1,3,3)                  \n",
    "#\n",
    "#start, stop = start_stop_indices(t_pts, t_start, t_end)    \n",
    "#plot_y_vs_x(t_pts[start : stop], theta1_dot[start : stop], \n",
    "#            axis_labels=state_space_labels, \n",
    "#            color='blue',\n",
    "#            label=None, \n",
    "#            title='State space', \n",
    "#            ax=ax_c)    \n",
    "\n",
    "fig.tight_layout()\n",
    "fig.savefig('Double_pendulum_Lagrange.png', bbox_inches='tight') \n",
    "\n",
    "print()"
   ]
  },
  {
   "cell_type": "markdown",
   "metadata": {},
   "source": [
    "Now trying the power spectrum, plotting only positive frequencies and cutting off the lower peaks:"
   ]
  },
  {
   "cell_type": "code",
   "execution_count": null,
   "metadata": {},
   "outputs": [],
   "source": [
    "#start, stop = start_stop_indices(t_pts, t_start, t_end)    \n",
    "#signal = phi[start:stop]\n",
    "#power_spectrum = np.abs(np.fft.fft(signal))**2\n",
    "#freqs = np.fft.fftfreq(signal.size, delta_t)\n",
    "#idx = np.argsort(freqs)\n",
    "#\n",
    "#fig_ps = plt.figure(figsize=(5,5))\n",
    "#ax_ps = fig_ps.add_subplot(1,1,1)\n",
    "#ax_ps.semilogy(freqs[idx], power_spectrum[idx], color='blue')\n",
    "#ax_ps.set_xlim(0, 1.)\n",
    "#ax_ps.set_ylim(1.e5, 1.e11)\n",
    "#ax_ps.set_xlabel('frequency')\n",
    "#ax_ps.set_title('Power Spectrum')\n",
    "#\n",
    "#fig_ps.tight_layout()"
   ]
  },
  {
   "cell_type": "code",
   "execution_count": null,
   "metadata": {},
   "outputs": [],
   "source": []
  },
  {
   "cell_type": "code",
   "execution_count": null,
   "metadata": {},
   "outputs": [],
   "source": []
  }
 ],
 "metadata": {
  "kernelspec": {
   "display_name": "Python 3",
   "language": "python",
   "name": "python3"
  },
  "language_info": {
   "codemirror_mode": {
    "name": "ipython",
    "version": 3
   },
   "file_extension": ".py",
   "mimetype": "text/x-python",
   "name": "python",
   "nbconvert_exporter": "python",
   "pygments_lexer": "ipython3",
   "version": "3.7.1"
  }
 },
 "nbformat": 4,
 "nbformat_minor": 2
}
